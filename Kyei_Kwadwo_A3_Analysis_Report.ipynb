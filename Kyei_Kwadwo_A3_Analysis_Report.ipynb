{
 "cells": [
  {
   "cell_type": "markdown",
   "id": "dominican-space",
   "metadata": {
    "ExecuteTime": {
     "end_time": "2021-02-16T02:54:56.745094Z",
     "start_time": "2021-02-16T02:54:56.740451Z"
    }
   },
   "source": [
    "# **Analysis Report to Management**\n",
    "by: Kwadwo Kyei"
   ]
  },
  {
   "cell_type": "markdown",
   "id": "bored-selection",
   "metadata": {},
   "source": [
    "## Introduction"
   ]
  },
  {
   "cell_type": "markdown",
   "id": "fancy-chapel",
   "metadata": {},
   "source": [
    "\n",
    "This analysis report on Apprentice Chef is made up of two different projects. The first task was to take on an analytics project to better understand how much revenue Apprentice expects from each customer within the first year of using their services and the second task was to analyze Apprentice Chef’s new program named Halfway There and predict which customers would subscribe to the service of receiving half a bottle of wine from a local California vineyard every Wednesday.\n"
   ]
  },
  {
   "cell_type": "markdown",
   "id": "neither-wildlife",
   "metadata": {
    "ExecuteTime": {
     "end_time": "2021-02-16T02:57:19.343866Z",
     "start_time": "2021-02-16T02:57:19.341017Z"
    }
   },
   "source": [
    "## Project 1"
   ]
  },
  {
   "cell_type": "markdown",
   "id": "postal-calculation",
   "metadata": {},
   "source": [
    "From the first case analysis I was able to derive meaningful information on what impacts revenue from customers. Working with a wide variety of explanatory variables, I was able to single out complaints as an important variable In impacting how much revenue to expect from each customer. This variable was significantly significant with a p-value below the alpha level of 0.05. The complaints variable has a negative coefficient with the dependent variable and that means that for every increase in complaints, the company can expect to see revenue from each customer to decrease by -0.4411. "
   ]
  },
  {
   "cell_type": "markdown",
   "id": "introductory-brooks",
   "metadata": {},
   "source": [
    "## Project 2"
   ]
  },
  {
   "cell_type": "markdown",
   "id": "restricted-cricket",
   "metadata": {},
   "source": [
    "For the second case on cross-sell promotion for “Halfway There”, I used feature importance to select my most valuable variables to be used in my modles. I found total meals ordered and average time spent on website to be important in determining whether a customer would subscribe to the “Halfway There” wine program. These features were found to have over 0.10 feature importance."
   ]
  },
  {
   "cell_type": "markdown",
   "id": "russian-india",
   "metadata": {
    "ExecuteTime": {
     "end_time": "2021-02-16T03:33:59.533995Z",
     "start_time": "2021-02-16T03:33:59.530360Z"
    }
   },
   "source": [
    "## Insights for Project 1"
   ]
  },
  {
   "cell_type": "markdown",
   "id": "designed-visiting",
   "metadata": {},
   "source": [
    "My highest model's R-Square value was the ols model with an R-squared of 0.752"
   ]
  },
  {
   "cell_type": "code",
   "execution_count": 13,
   "id": "outdoor-thesaurus",
   "metadata": {
    "ExecuteTime": {
     "end_time": "2021-02-16T04:36:16.720511Z",
     "start_time": "2021-02-16T04:36:15.885575Z"
    }
   },
   "outputs": [],
   "source": [
    "# Importing the library\n",
    "import pandas as pd #data science main library  \n",
    "\n",
    "import statsmodels.formula.api as smf # regression model\n",
    "\n",
    "# Calling the Doc/file\n",
    "file = './Apprentice_Chef_Case_Info/Apprentice_Chef_Dataset.xlsx' #using a Excel file\n",
    "\n",
    "\n",
    "# Bringing-in the Doc/file to the Python\n",
    "Chef = pd.read_excel(io = file) #using pd.read_excel since it is not a CSV"
   ]
  },
  {
   "cell_type": "code",
   "execution_count": 14,
   "id": "aquatic-kennedy",
   "metadata": {
    "ExecuteTime": {
     "end_time": "2021-02-16T04:36:17.603248Z",
     "start_time": "2021-02-16T04:36:17.598095Z"
    }
   },
   "outputs": [],
   "source": [
    "Chef['log_REVENUE']=np.log10(Chef['REVENUE']).round(2)"
   ]
  },
  {
   "cell_type": "code",
   "execution_count": 15,
   "id": "cubic-guinea",
   "metadata": {
    "ExecuteTime": {
     "end_time": "2021-02-16T04:36:18.555910Z",
     "start_time": "2021-02-16T04:36:18.486396Z"
    }
   },
   "outputs": [],
   "source": [
    "##Creating new Variables\n",
    "#Revenue Per Order\n",
    "Chef.loc[: , \"frequency_of_unique_orders\"] = (Chef.loc[:,\"TOTAL_MEALS_ORDERED\"]/\n",
    "                                                   Chef.loc[:,\"UNIQUE_MEALS_PURCH\"]).round(2)\n",
    "\n",
    "## Percentage of bad orders ie the inconvenience caused to the customer\n",
    "Chef.loc[:,\"inconvenience\"] = ((Chef.loc[:,\"EARLY_DELIVERIES\"]+Chef.loc[:,\"LATE_DELIVERIES\"])/\n",
    "                                    Chef.loc[:,\"TOTAL_MEALS_ORDERED\"]).round(2)\n",
    "\n",
    "\n",
    "## Ratio of customer care contact with number of orders\n",
    "Chef.loc[ : , \"complaints\"] = (Chef.loc[:,\"CONTACTS_W_CUSTOMER_SERVICE\"]/\n",
    "                                              Chef.loc[:,\"TOTAL_MEALS_ORDERED\"]).round(2)\n",
    "## Ratio of early deliveries per total delivery\n",
    "Chef.loc[ : , \"percentage_early_deliveries_over_total\"] = (Chef.loc[:,\"EARLY_DELIVERIES\"]/\n",
    "                                              Chef.loc[:,\"TOTAL_MEALS_ORDERED\"]).round(2)"
   ]
  },
  {
   "cell_type": "code",
   "execution_count": 16,
   "id": "dangerous-diameter",
   "metadata": {
    "ExecuteTime": {
     "end_time": "2021-02-16T04:36:19.446288Z",
     "start_time": "2021-02-16T04:36:19.394220Z"
    }
   },
   "outputs": [
    {
     "name": "stdout",
     "output_type": "stream",
     "text": [
      "                            OLS Regression Results                            \n",
      "==============================================================================\n",
      "Dep. Variable:            log_REVENUE   R-squared:                       0.752\n",
      "Model:                            OLS   Adj. R-squared:                  0.750\n",
      "Method:                 Least Squares   F-statistic:                     487.6\n",
      "Date:                Mon, 15 Feb 2021   Prob (F-statistic):               0.00\n",
      "Time:                        23:36:19   Log-Likelihood:                 1615.5\n",
      "No. Observations:                1946   AIC:                            -3205.\n",
      "Df Residuals:                    1933   BIC:                            -3132.\n",
      "Df Model:                          12                                         \n",
      "Covariance Type:            nonrobust                                         \n",
      "==========================================================================================================\n",
      "                                             coef    std err          t      P>|t|      [0.025      0.975]\n",
      "----------------------------------------------------------------------------------------------------------\n",
      "Intercept                                  2.7687      0.014    199.184      0.000       2.741       2.796\n",
      "complaints                                -0.4411      0.024    -18.494      0.000      -0.488      -0.394\n",
      "MEDIAN_MEAL_RATING                         0.0578      0.004     13.922      0.000       0.050       0.066\n",
      "AVG_PREP_VID_TIME                          0.0014   9.77e-05     14.012      0.000       0.001       0.002\n",
      "LARGEST_ORDER_SIZE                        -0.0121      0.003     -4.585      0.000      -0.017      -0.007\n",
      "inconvenience                             -0.0433      0.029     -1.513      0.130      -0.099       0.013\n",
      "TOTAL_MEALS_ORDERED                       -0.0002   6.52e-05     -2.681      0.007      -0.000   -4.69e-05\n",
      "CONTACTS_W_CUSTOMER_SERVICE                0.0301      0.002     15.497      0.000       0.026       0.034\n",
      "frequency_of_unique_orders                 0.0028      0.000     18.979      0.000       0.003       0.003\n",
      "percentage_early_deliveries_over_total     0.0185      0.045      0.408      0.683      -0.071       0.108\n",
      "CROSS_SELL_SUCCESS                        -0.0109      0.005     -2.119      0.034      -0.021      -0.001\n",
      "MASTER_CLASSES_ATTENDED                    0.0264      0.004      6.035      0.000       0.018       0.035\n",
      "TOTAL_PHOTOS_VIEWED                     7.626e-05   1.52e-05      5.010      0.000    4.64e-05       0.000\n",
      "==============================================================================\n",
      "Omnibus:                      307.381   Durbin-Watson:                   2.057\n",
      "Prob(Omnibus):                  0.000   Jarque-Bera (JB):             1841.603\n",
      "Skew:                          -0.596   Prob(JB):                         0.00\n",
      "Kurtosis:                       7.614   Cond. No.                     5.19e+03\n",
      "==============================================================================\n",
      "\n",
      "Notes:\n",
      "[1] Standard Errors assume that the covariance matrix of the errors is correctly specified.\n",
      "[2] The condition number is large, 5.19e+03. This might indicate that there are\n",
      "strong multicollinearity or other numerical problems.\n"
     ]
    }
   ],
   "source": [
    "## Sample Solution ##\n",
    "\n",
    "# Step 1: INSTANTIATE a model object\n",
    "lm_best = smf.ols(formula =  \"\"\"log_REVENUE~complaints +\n",
    "MEDIAN_MEAL_RATING+\n",
    "AVG_PREP_VID_TIME+\n",
    "LARGEST_ORDER_SIZE+\n",
    "inconvenience +\n",
    "TOTAL_MEALS_ORDERED +\n",
    "CONTACTS_W_CUSTOMER_SERVICE+\n",
    "frequency_of_unique_orders +\n",
    "percentage_early_deliveries_over_total +\n",
    "CROSS_SELL_SUCCESS +\n",
    "MASTER_CLASSES_ATTENDED +\n",
    "TOTAL_PHOTOS_VIEWED +\n",
    "LARGEST_ORDER_SIZE  \"\"\",\n",
    "                                data = Chef)\n",
    "\n",
    "\n",
    "# Step 2: FIT the data into the model object\n",
    "results = lm_best.fit()\n",
    "\n",
    "\n",
    "# Step 3: analyze the SUMMARY output\n",
    "print(results.summary())"
   ]
  },
  {
   "cell_type": "markdown",
   "id": "structural-question",
   "metadata": {},
   "source": [
    "## Insights for Project 2"
   ]
  },
  {
   "cell_type": "markdown",
   "id": "forced-robinson",
   "metadata": {},
   "source": [
    "My highest cross-sell model's AUC score was with the tuned tree model, which had an AUC score of 0.7320"
   ]
  },
  {
   "cell_type": "code",
   "execution_count": 17,
   "id": "received-headset",
   "metadata": {
    "ExecuteTime": {
     "end_time": "2021-02-16T04:36:21.841970Z",
     "start_time": "2021-02-16T04:36:21.003469Z"
    },
    "code_folding": []
   },
   "outputs": [],
   "source": [
    "# importing libraries\n",
    "import numpy as np\n",
    "import random            as rand                     # random number gen\n",
    "import pandas            as pd                       # data science essentials\n",
    "import matplotlib.pyplot as plt                      # data visualization\n",
    "import seaborn           as sns                      # enhanced data viz\n",
    "from sklearn.model_selection import train_test_split # train-test split\n",
    "from sklearn.linear_model import LogisticRegression  # logistic regression\n",
    "import statsmodels.formula.api as smf                # logistic regression\n",
    "from sklearn.metrics import confusion_matrix         # confusion matrix\n",
    "from sklearn.metrics import roc_auc_score            # auc score\n",
    "from sklearn.neighbors import KNeighborsClassifier   # KNN for classification\n",
    "from sklearn.neighbors import KNeighborsRegressor    # KNN for regression\n",
    "from sklearn.preprocessing import StandardScaler     # standard scaler\n",
    "# libraries for classification trees\n",
    "from sklearn.tree import DecisionTreeClassifier      # classification trees\n",
    "from sklearn.tree import export_graphviz             # exports graphics\n",
    "from six import StringIO                             # saves objects in memory\n",
    "from IPython.display import Image                    # displays on frontend\n",
    "import pydotplus                                     # interprets dot objects\n",
    "from sklearn.model_selection import RandomizedSearchCV     # hyperparameter tuning\n",
    "from sklearn.metrics import make_scorer              # customizable scorer\n",
    "from sklearn.ensemble import RandomForestClassifier     # random forest\n",
    "from sklearn.ensemble import GradientBoostingClassifier # gbm\n",
    "\n",
    "\n",
    "# setting pandas print options\n",
    "pd.set_option('display.max_rows', 500)\n",
    "pd.set_option('display.max_columns', 500)\n",
    "pd.set_option('display.width', 1000)\n",
    "pd.set_option('display.max_colwidth', 100)\n",
    "\n",
    "\n",
    "# specifying file name\n",
    "file = './Apprentice_Chef_Case_Info/Apprentice_Chef_Dataset.xlsx' #using a Excel file\n",
    "\n",
    "# reading the file into Python\n",
    "ap_chef = pd.read_excel(io = file)\n"
   ]
  },
  {
   "cell_type": "code",
   "execution_count": 18,
   "id": "chicken-houston",
   "metadata": {
    "ExecuteTime": {
     "end_time": "2021-02-16T04:36:22.470825Z",
     "start_time": "2021-02-16T04:36:22.391249Z"
    },
    "code_folding": [
     0
    ]
   },
   "outputs": [],
   "source": [
    "# log transforming REVENUE and saving it to the dataset.\n",
    "ap_chef['log_REVENUE'] = np.log10(ap_chef['REVENUE'])"
   ]
  },
  {
   "cell_type": "code",
   "execution_count": 19,
   "id": "retired-lending",
   "metadata": {
    "ExecuteTime": {
     "end_time": "2021-02-16T04:36:23.030161Z",
     "start_time": "2021-02-16T04:36:23.018173Z"
    },
    "code_folding": [
     0
    ]
   },
   "outputs": [],
   "source": [
    "# making a copy of housing\n",
    "ap_chef_data = ap_chef.copy()\n",
    "\n",
    "\n",
    "#The following code is meant to drop the potential Y-variable (CROSS_SELL_SUCCESS) \n",
    "# as well as categorical variables not used in models like:\n",
    "# NAME, EMAIL, FIRST_NAME AND FAMILY_NAME. This is so that these variables\n",
    "# don't accidentally end up on the X-side of the model to be developed.\n",
    "ap_chef_data = ap_chef_data.drop([ 'CROSS_SELL_SUCCESS',\n",
    "                                     'NAME',\n",
    "                                     'EMAIL',\n",
    "                                     'FIRST_NAME',\n",
    "                                     'FAMILY_NAME'], axis = 1)\n",
    "\n",
    "\n",
    "# preparing response variables\n",
    "ap_chef_target = ap_chef.loc[ : , 'CROSS_SELL_SUCCESS']\n",
    "\n",
    "\n",
    "# train-test split with stratification\n",
    "X_train, X_test, y_train, y_test = train_test_split(\n",
    "            ap_chef_data,\n",
    "            ap_chef_target,\n",
    "            test_size    = 0.25,\n",
    "            random_state = 219,\n",
    "            stratify     = ap_chef_target)\n",
    "\n",
    "\n",
    "# merging training data for statsmodels\n",
    "ap_chef_train = pd.concat([X_train, y_train], axis = 1)"
   ]
  },
  {
   "cell_type": "code",
   "execution_count": 21,
   "id": "entertaining-bedroom",
   "metadata": {
    "ExecuteTime": {
     "end_time": "2021-02-16T04:38:16.052008Z",
     "start_time": "2021-02-16T04:37:25.985802Z"
    }
   },
   "outputs": [
    {
     "name": "stderr",
     "output_type": "stream",
     "text": [
      "<ipython-input-21-527233f33049>:4: FutureWarning: The pandas.np module is deprecated and will be removed from pandas in a future version. Import numpy directly instead\n",
      "  depth_space     = pd.np.arange(1, 25, 1)\n",
      "<ipython-input-21-527233f33049>:5: FutureWarning: The pandas.np module is deprecated and will be removed from pandas in a future version. Import numpy directly instead\n",
      "  leaf_space      = pd.np.arange(1, 100, 1)\n"
     ]
    },
    {
     "name": "stdout",
     "output_type": "stream",
     "text": [
      "Tuned Parameters  : {'splitter': 'random', 'min_samples_leaf': 11, 'max_depth': 19, 'criterion': 'gini'}\n",
      "Tuned Training AUC: 0.5604\n"
     ]
    }
   ],
   "source": [
    "# declaring a hyperparameter space\n",
    "criterion_space = ['gini', 'entropy']\n",
    "splitter_space  = ['best', 'random']\n",
    "depth_space     = pd.np.arange(1, 25, 1)\n",
    "leaf_space      = pd.np.arange(1, 100, 1)\n",
    "\n",
    "\n",
    "# creating a hyperparameter grid\n",
    "param_grid = {'criterion'        : criterion_space,\n",
    "              'splitter'         : splitter_space,\n",
    "              'max_depth'        : depth_space,\n",
    "              'min_samples_leaf' : leaf_space}\n",
    "\n",
    "\n",
    "# INSTANTIATING the model object without hyperparameters\n",
    "tuned_tree = DecisionTreeClassifier(random_state = 219)\n",
    "\n",
    "\n",
    "# RandomizedSearchCV object\n",
    "tuned_tree_cv = RandomizedSearchCV(estimator             = tuned_tree,\n",
    "                                   param_distributions   = param_grid,\n",
    "                                   cv                    = 6,\n",
    "                                   n_iter                = 1000,\n",
    "                                   random_state          = 219,\n",
    "                                   scoring = make_scorer(roc_auc_score,\n",
    "                                             needs_threshold = False))\n",
    "\n",
    "\n",
    "# FITTING to the FULL DATASET (due to cross-validation)\n",
    "tuned_tree_cv.fit(ap_chef_data, ap_chef_target)\n",
    "\n",
    "\n",
    "# PREDICT step is not needed\n",
    "\n",
    "\n",
    "# printing the optimal parameters and best score\n",
    "print(\"Tuned Parameters  :\", tuned_tree_cv.best_params_)\n",
    "print(\"Tuned Training AUC:\", tuned_tree_cv.best_score_.round(4))"
   ]
  },
  {
   "cell_type": "code",
   "execution_count": 23,
   "id": "preceding-external",
   "metadata": {
    "ExecuteTime": {
     "end_time": "2021-02-16T04:40:26.270019Z",
     "start_time": "2021-02-16T04:40:26.235074Z"
    }
   },
   "outputs": [
    {
     "name": "stdout",
     "output_type": "stream",
     "text": [
      "Training ACCURACY: 0.7279\n",
      "Testing  ACCURACY: 0.7536\n",
      "AUC Score        : 0.6764\n"
     ]
    }
   ],
   "source": [
    "# building a model based on hyperparameter tuning results\n",
    "\n",
    "# INSTANTIATING a logistic regression model with tuned values\n",
    "tree_tuned = tuned_tree_cv.best_estimator_\n",
    "\n",
    "\n",
    "# FIT step is not needed\n",
    "\n",
    "\n",
    "# PREDICTING based on the testing set\n",
    "tree_tuned_pred = tree_tuned.predict(X_test)\n",
    "\n",
    "\n",
    "# SCORING the results\n",
    "print('Training ACCURACY:', tree_tuned.score(X_train, y_train).round(4))\n",
    "print('Testing  ACCURACY:', tree_tuned.score(X_test, y_test).round(4))\n",
    "print('AUC Score        :', roc_auc_score(y_true  = y_test,\n",
    "                                          y_score = tree_tuned_pred).round(4))\n",
    "\n",
    "\n",
    "# saving scoring data for future use\n",
    "tree_tuned_train_score = tree_tuned.score(X_train, y_train).round(4) # accuracy\n",
    "tree_tuned_test_score  = tree_tuned.score(X_test, y_test).round(4)   # accuracy\n",
    "\n",
    "\n",
    "# saving the AUC score\n",
    "tree_tuned_auc         = roc_auc_score(y_true  = y_test,\n",
    "                                     y_score = tree_tuned_pred).round(4) # auc"
   ]
  },
  {
   "cell_type": "markdown",
   "id": "ecological-injection",
   "metadata": {},
   "source": [
    "## Conclusion"
   ]
  },
  {
   "attachments": {},
   "cell_type": "markdown",
   "id": "relevant-means",
   "metadata": {},
   "source": [
    "In conclusion in order to increase the revenue of each customer within their first year we would need to decrease the amount of complaints from customers and to reach more customers with our new wine promotion we would have to target customers who make a lot of meal orders and spend a lot of time on the website."
   ]
  },
  {
   "cell_type": "code",
   "execution_count": null,
   "id": "behind-replacement",
   "metadata": {},
   "outputs": [],
   "source": []
  }
 ],
 "metadata": {
  "kernelspec": {
   "display_name": "Python 3",
   "language": "python",
   "name": "python3"
  },
  "language_info": {
   "codemirror_mode": {
    "name": "ipython",
    "version": 3
   },
   "file_extension": ".py",
   "mimetype": "text/x-python",
   "name": "python",
   "nbconvert_exporter": "python",
   "pygments_lexer": "ipython3",
   "version": "3.8.3"
  },
  "toc": {
   "base_numbering": 1,
   "nav_menu": {},
   "number_sections": true,
   "sideBar": true,
   "skip_h1_title": false,
   "title_cell": "Table of Contents",
   "title_sidebar": "Contents",
   "toc_cell": false,
   "toc_position": {},
   "toc_section_display": true,
   "toc_window_display": false
  },
  "varInspector": {
   "cols": {
    "lenName": 16,
    "lenType": 16,
    "lenVar": 40
   },
   "kernels_config": {
    "python": {
     "delete_cmd_postfix": "",
     "delete_cmd_prefix": "del ",
     "library": "var_list.py",
     "varRefreshCmd": "print(var_dic_list())"
    },
    "r": {
     "delete_cmd_postfix": ") ",
     "delete_cmd_prefix": "rm(",
     "library": "var_list.r",
     "varRefreshCmd": "cat(var_dic_list()) "
    }
   },
   "types_to_exclude": [
    "module",
    "function",
    "builtin_function_or_method",
    "instance",
    "_Feature"
   ],
   "window_display": false
  }
 },
 "nbformat": 4,
 "nbformat_minor": 5
}
